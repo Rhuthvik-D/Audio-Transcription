{
  "cells": [
    {
      "cell_type": "code",
      "execution_count": 1,
      "metadata": {
        "id": "9vEoV6d-Lxca"
      },
      "outputs": [],
      "source": [
        "import soundfile as sf\n",
        "import numpy as np\n",
        "import librosa\n",
        "import scipy.io as sio\n",
        "import json\n",
        "import csv\n",
        "import re\n",
        "import pandas as pd\n",
        "import os\n",
        "import subprocess\n",
        "import shutil"
      ]
    },
    {
      "cell_type": "code",
      "execution_count": null,
      "metadata": {
        "colab": {
          "base_uri": "https://localhost:8080/"
        },
        "id": "icYstULaNOmM",
        "outputId": "5744f3dd-876e-4251-cb63-80a5d0c02075"
      },
      "outputs": [],
      "source": [
        "!pip install -r \"/content/drive/MyDrive/NYU LH Audio Transcription/requirements.txt\" #give own path of requirements.txt"
      ]
    },
    {
      "cell_type": "code",
      "execution_count": null,
      "metadata": {
        "colab": {
          "base_uri": "https://localhost:8080/",
          "height": 1000
        },
        "id": "zb8F31ChGYpm",
        "outputId": "330ba762-c750-4166-b33e-73b727049c8a"
      },
      "outputs": [],
      "source": [
        "!pip install git+https://github.com/m-bain/whisperx.git"
      ]
    },
    {
      "cell_type": "code",
      "execution_count": null,
      "metadata": {
        "colab": {
          "base_uri": "https://localhost:8080/"
        },
        "id": "l9Xs19HPG1Hl",
        "outputId": "ee5fa350-03b0-4522-d879-a2ba44b1a8f7"
      },
      "outputs": [],
      "source": [
        "!pip install git+https://github.com/openai/whisper.git"
      ]
    },
    {
      "cell_type": "code",
      "execution_count": 23,
      "metadata": {
        "id": "OIkbNKwMSGs3"
      },
      "outputs": [],
      "source": [
        "def audio_trans(filepath, phnm_dir=\"/content/drive/MyDrive/NYU LH Audio Transcription/Phoneme_Dictionary.txt\"):  #Give your own Phoneme File Path\n",
        "    print(f\"Processing file: {filepath}\")\n",
        "\n",
        "    filename = os.path.splitext(os.path.basename(filepath))[0]  # filename without extension\n",
        "    parent_dir = \"/content/drive/MyDrive\"\n",
        "    new_dir = \"NYU Audio Transcription\"\n",
        "\n",
        "    full_path = os.path.join(parent_dir, new_dir)  # New directory in Google Drive created\n",
        "    if not os.path.exists(full_path):\n",
        "        os.makedirs(full_path)\n",
        "        print(f\"Created directory: {full_path}\")\n",
        "\n",
        "    phnm_output_file = os.path.join(full_path, os.path.splitext(os.path.basename(phnm_dir))[0] + \".csv\")  # Output file for phoneme dictionary\n",
        "    if not os.path.exists(phnm_output_file) or os.path.getsize(phnm_output_file) == 0: #converts .txt to .csv phoneme dictionary\n",
        "        print(f\"Creating phoneme CSV at: {phnm_output_file}\")\n",
        "        with open(phnm_dir, 'r') as infile, open(phnm_output_file, 'w', newline='') as outfile:\n",
        "            csv_writer = csv.writer(outfile)\n",
        "            csv_writer.writerow(['Word', 'Phoneme'])\n",
        "\n",
        "            for line in infile:\n",
        "                parts = line.strip().split(maxsplit=1)\n",
        "                if len(parts) == 2:\n",
        "                    word, phoneme = parts\n",
        "                    csv_writer.writerow([word, phoneme])\n",
        "                else:\n",
        "                    print(f\"Line Skipped: {line.strip()}\")\n",
        "\n",
        "    mat_files_dir = os.path.join(full_path, \".mat files\")  # Directory for saving .mat files\n",
        "    if not os.path.exists(mat_files_dir):\n",
        "        os.makedirs(mat_files_dir)\n",
        "        print(f\"Created directory for .mat files: {mat_files_dir}\")\n",
        "\n",
        "    wav_files_dir = os.path.join(full_path, \".wav files\")  # Directory for saving .wav files\n",
        "    if not os.path.exists(wav_files_dir):\n",
        "        os.makedirs(wav_files_dir)\n",
        "        print(f\"Created directory for .wav files: {wav_files_dir}\")\n",
        "\n",
        "    def convert_mat_wav(filepath): #function to convert .mat to .wav\n",
        "        print(f\"Converting .mat file: {filepath}\")\n",
        "        mat_data = sio.loadmat(filepath)\n",
        "        print(\"MAT file keys:\", mat_data.keys())\n",
        "\n",
        "        audio_key = None\n",
        "        for key, value in mat_data.items():\n",
        "            if isinstance(value, np.ndarray) and value.ndim in [1, 2]:\n",
        "                audio_key = key\n",
        "                break\n",
        "\n",
        "        if audio_key is None:\n",
        "            print(\"No audio file found in .mat\")\n",
        "            return None\n",
        "\n",
        "        audio_data = mat_data[audio_key]\n",
        "        wav_file_path = os.path.join(wav_files_dir, filename + \".wav\")\n",
        "        sf.write(wav_file_path, audio_data, samplerate=44100)\n",
        "        print(f\"Audio file saved to {wav_file_path}\")\n",
        "        return wav_file_path\n",
        "\n",
        "    wav_file_path = None\n",
        "    if filepath.endswith('.mat'):\n",
        "        print(\"The file is a .mat file.\")\n",
        "        new_mat_filepath = os.path.join(mat_files_dir, os.path.basename(filepath))\n",
        "        if not os.path.exists(new_mat_filepath):\n",
        "            shutil.copy(filepath, new_mat_filepath) #saves .mat file to respective directory\n",
        "            print(f\"Copied .mat file to: {new_mat_filepath}\")\n",
        "        wav_file_path = convert_mat_wav(new_mat_filepath)\n",
        "    elif filepath.endswith('.wav'):\n",
        "        print(\"The file is a .wav file.\")\n",
        "        wav_file_path = os.path.join(wav_files_dir, filename + \".wav\")\n",
        "        if not os.path.exists(wav_file_path):\n",
        "           shutil.copy(filepath, wav_file_path) #saves .wav file to respective directory\n",
        "\n",
        "    if wav_file_path is None:\n",
        "        print(\"No valid audio file found.\")\n",
        "        return\n",
        "\n",
        "    audio_data_path = os.path.join(full_path, \".wav audio data files\") #directory to save json data of audio file\n",
        "    if not os.path.exists(audio_data_path):\n",
        "        os.makedirs(audio_data_path)\n",
        "        print(f\"Created directory for audio data: {audio_data_path}\")\n",
        "\n",
        "    command = [\n",
        "        'whisperx',\n",
        "        wav_file_path,\n",
        "        '--model', 'medium',\n",
        "        '--output_dir', audio_data_path,\n",
        "        '--output_format', 'json',\n",
        "        '--align_model', 'WAV2VEC2_ASR_LARGE_LV60K_960H'\n",
        "    ]\n",
        "\n",
        "    try:\n",
        "        result = subprocess.run(command, check=True, stdout=subprocess.PIPE, stderr=subprocess.PIPE)\n",
        "        print(\"WhisperX output:\", result.stdout.decode('utf-8'))\n",
        "    except subprocess.CalledProcessError as e:\n",
        "        print(f\"An error occurred with WhisperX: {e.stderr.decode('utf-8')}\")\n",
        "        return\n",
        "\n",
        "    to_check = os.path.join(audio_data_path, filename + \".json\")\n",
        "\n",
        "    transcriptions_file_path = os.path.join(full_path, \"Transcriptions\")\n",
        "    if not os.path.exists(transcriptions_file_path):\n",
        "        os.makedirs(transcriptions_file_path)\n",
        "        print(f\"Created directory for transcriptions: {transcriptions_file_path}\") #directory to save transcription csv of audio file\n",
        "\n",
        "    if os.path.exists(to_check):\n",
        "        print(f\"File {to_check} exists.\") #only if json of the audio fil exists, further process is done\n",
        "\n",
        "        with open(to_check, 'r') as json_file:\n",
        "            data = json.load(json_file)\n",
        "        transcription_csv_file = os.path.join(transcriptions_file_path, filename + \".csv\") #word extraction into csv file\n",
        "        with open(transcription_csv_file, 'w', newline='') as csv_file:\n",
        "            csv_writer = csv.writer(csv_file)\n",
        "            csv_writer.writerow(['Word', 'Start', 'End', 'Score'])\n",
        "            for segment in data['segments']:\n",
        "                for word_info in segment['words']:\n",
        "                    csv_writer.writerow([word_info['word'], word_info['start'], word_info['end'], word_info['score']])\n",
        "\n",
        "        transc_df = pd.read_csv(transcription_csv_file)\n",
        "        phoneme_df = pd.read_csv(phnm_output_file)\n",
        "\n",
        "        def rmv_pnct(word): #function to check and remove unwanted punctuations\n",
        "            return re.sub(r'[.,!\"?]', '', word)  # Generalise the preprocessing for all the text.\n",
        "\n",
        "        transc_df['Word'] = transc_df['Word'].str.upper().apply(rmv_pnct)\n",
        "\n",
        "        new_df = transc_df.merge(phoneme_df, on='Word', how='left')\n",
        "\n",
        "        new_df.to_csv(transcription_csv_file, index=False)\n",
        "        print(f\"Final transcription with phonemes saved to {transcription_csv_file}\") #transcription file consists of words, phonemes, word time offset, probability\n",
        "\n",
        "        return new_df\n",
        "\n",
        "    else:\n",
        "        print(f\"File {to_check} does not exist.\")\n",
        "        return"
      ]
    },
    {
      "cell_type": "code",
      "execution_count": null,
      "metadata": {
        "colab": {
          "base_uri": "https://localhost:8080/",
          "height": 667
        },
        "id": "VG-g3Ld-BiJq",
        "outputId": "cc61c033-927a-4274-9794-a01133766de1"
      },
      "outputs": [],
      "source": [
        "audio_trans(\"/content/drive/MyDrive/NYU LH Audio Transcription/.mat files/NY749_AuditoryRepetition.mat\")"
      ]
    }
  ],
  "metadata": {
    "accelerator": "GPU",
    "colab": {
      "gpuType": "T4",
      "provenance": []
    },
    "kernelspec": {
      "display_name": "Python 3",
      "name": "python3"
    },
    "language_info": {
      "name": "python"
    }
  },
  "nbformat": 4,
  "nbformat_minor": 0
}
